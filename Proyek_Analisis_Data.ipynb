{
  "cells": [
    {
      "cell_type": "markdown",
      "metadata": {
        "id": "H9wADwK78DCz"
      },
      "source": [
        "# Proyek Analisis Data: [Input Nama Dataset]\n",
        "- **Nama:** Muhammad Nouval Ghoizy\n",
        "- **Email:** m179b4ky2973@bangkit.academy\n",
        "- **ID Dicoding:** m179b4ky2973"
      ]
    },
    {
      "cell_type": "markdown",
      "metadata": {
        "id": "eE0raob58DC0"
      },
      "source": [
        "## Menentukan Pertanyaan Bisnis"
      ]
    },
    {
      "cell_type": "markdown",
      "metadata": {
        "id": "GmQeQ5YF8DC0"
      },
      "source": [
        "\n",
        "1. Bagaimana hari dalam seminggu memengaruhi jumlah penyewaan sepeda?\n",
        "2. Apakah ada perbedaan jumlah penyewaan sepeda antara jam sibuk dan non-sibuk?"
      ]
    },
    {
      "cell_type": "markdown",
      "metadata": {
        "id": "H-z4QGlO8DC1"
      },
      "source": [
        "## Import Semua Packages/Library yang Digunakan"
      ]
    },
    {
      "cell_type": "code",
      "execution_count": 54,
      "metadata": {},
      "outputs": [],
      "source": [
        "!pip install -q streamlit"
      ]
    },
    {
      "cell_type": "code",
      "execution_count": 55,
      "metadata": {
        "id": "FVYwaObI8DC1"
      },
      "outputs": [],
      "source": [
        "import streamlit as st\n",
        "import pandas as pd\n",
        "import seaborn as sns\n",
        "import matplotlib.pyplot as plt"
      ]
    },
    {
      "cell_type": "markdown",
      "metadata": {
        "id": "h_Sh51Xy8DC1"
      },
      "source": [
        "## Data Wrangling"
      ]
    },
    {
      "cell_type": "markdown",
      "metadata": {
        "id": "sXU2GBYu8DC1"
      },
      "source": [
        "### Gathering Data"
      ]
    },
    {
      "cell_type": "code",
      "execution_count": 56,
      "metadata": {
        "id": "zjCBk1BI8DC1"
      },
      "outputs": [],
      "source": [
        "# Load data\n",
        "day_df = pd.read_csv(\"day.csv\")\n",
        "hour_df = pd.read_csv(\"hour.csv\")"
      ]
    },
    {
      "cell_type": "code",
      "execution_count": 57,
      "metadata": {},
      "outputs": [
        {
          "name": "stderr",
          "output_type": "stream",
          "text": [
            "2024-12-22 01:08:07.994 Thread 'MainThread': missing ScriptRunContext! This warning can be ignored when running in bare mode.\n",
            "2024-12-22 01:08:07.996 Thread 'MainThread': missing ScriptRunContext! This warning can be ignored when running in bare mode.\n",
            "2024-12-22 01:08:08.011 Thread 'MainThread': missing ScriptRunContext! This warning can be ignored when running in bare mode.\n",
            "2024-12-22 01:08:08.012 Thread 'MainThread': missing ScriptRunContext! This warning can be ignored when running in bare mode.\n",
            "2024-12-22 01:08:08.012 Thread 'MainThread': missing ScriptRunContext! This warning can be ignored when running in bare mode.\n",
            "2024-12-22 01:08:08.013 Thread 'MainThread': missing ScriptRunContext! This warning can be ignored when running in bare mode.\n",
            "2024-12-22 01:08:08.015 Thread 'MainThread': missing ScriptRunContext! This warning can be ignored when running in bare mode.\n",
            "2024-12-22 01:08:08.017 Thread 'MainThread': missing ScriptRunContext! This warning can be ignored when running in bare mode.\n"
          ]
        }
      ],
      "source": [
        "# Display the first few rows of the loaded data to understand the structure\n",
        "st.subheader(\"Loaded Data - Day DataFrame\")\n",
        "st.write(day_df.head())\n",
        "\n",
        "st.subheader(\"Loaded Data - Hour DataFrame\")\n",
        "st.write(hour_df.head())"
      ]
    },
    {
      "cell_type": "markdown",
      "metadata": {
        "id": "MMi6xGaDkbCi"
      },
      "source": [
        "**Insight:**\n",
        "\n",
        "- Proses Gathering Data bertujuan untuk memuat data dari sumber eksternal, dalam hal ini file CSV yang berisi data sewa sepeda (day.csv dan hour.csv).\n",
        "\n",
        "- Data ini mengandung informasi penting seperti cuaca, jam, hari, dan jumlah sepeda yang disewa pada waktu tertentu."
      ]
    },
    {
      "cell_type": "markdown",
      "metadata": {
        "id": "FHSiqaZp8DC1"
      },
      "source": [
        "### Assessing Data"
      ]
    },
    {
      "cell_type": "markdown",
      "metadata": {},
      "source": [
        "Assessing Data Structure"
      ]
    },
    {
      "cell_type": "code",
      "execution_count": 58,
      "metadata": {},
      "outputs": [
        {
          "name": "stderr",
          "output_type": "stream",
          "text": [
            "2024-12-22 01:08:08.064 Thread 'MainThread': missing ScriptRunContext! This warning can be ignored when running in bare mode.\n",
            "2024-12-22 01:08:08.065 Thread 'MainThread': missing ScriptRunContext! This warning can be ignored when running in bare mode.\n",
            "2024-12-22 01:08:08.067 Thread 'MainThread': missing ScriptRunContext! This warning can be ignored when running in bare mode.\n",
            "2024-12-22 01:08:08.068 Thread 'MainThread': missing ScriptRunContext! This warning can be ignored when running in bare mode.\n",
            "2024-12-22 01:08:08.068 Thread 'MainThread': missing ScriptRunContext! This warning can be ignored when running in bare mode.\n",
            "2024-12-22 01:08:08.068 Thread 'MainThread': missing ScriptRunContext! This warning can be ignored when running in bare mode.\n",
            "2024-12-22 01:08:08.068 Thread 'MainThread': missing ScriptRunContext! This warning can be ignored when running in bare mode.\n",
            "2024-12-22 01:08:08.070 Thread 'MainThread': missing ScriptRunContext! This warning can be ignored when running in bare mode.\n",
            "2024-12-22 01:08:08.070 Thread 'MainThread': missing ScriptRunContext! This warning can be ignored when running in bare mode.\n",
            "2024-12-22 01:08:08.070 Thread 'MainThread': missing ScriptRunContext! This warning can be ignored when running in bare mode.\n",
            "2024-12-22 01:08:08.070 Thread 'MainThread': missing ScriptRunContext! This warning can be ignored when running in bare mode.\n",
            "2024-12-22 01:08:08.071 Thread 'MainThread': missing ScriptRunContext! This warning can be ignored when running in bare mode.\n",
            "2024-12-22 01:08:08.071 Thread 'MainThread': missing ScriptRunContext! This warning can be ignored when running in bare mode.\n",
            "2024-12-22 01:08:08.071 Thread 'MainThread': missing ScriptRunContext! This warning can be ignored when running in bare mode.\n",
            "2024-12-22 01:08:08.071 Thread 'MainThread': missing ScriptRunContext! This warning can be ignored when running in bare mode.\n",
            "2024-12-22 01:08:08.072 Thread 'MainThread': missing ScriptRunContext! This warning can be ignored when running in bare mode.\n",
            "2024-12-22 01:08:08.074 Thread 'MainThread': missing ScriptRunContext! This warning can be ignored when running in bare mode.\n",
            "2024-12-22 01:08:08.074 Thread 'MainThread': missing ScriptRunContext! This warning can be ignored when running in bare mode.\n",
            "2024-12-22 01:08:08.074 Thread 'MainThread': missing ScriptRunContext! This warning can be ignored when running in bare mode.\n",
            "2024-12-22 01:08:08.075 Thread 'MainThread': missing ScriptRunContext! This warning can be ignored when running in bare mode.\n",
            "2024-12-22 01:08:08.075 Thread 'MainThread': missing ScriptRunContext! This warning can be ignored when running in bare mode.\n",
            "2024-12-22 01:08:08.076 Thread 'MainThread': missing ScriptRunContext! This warning can be ignored when running in bare mode.\n",
            "2024-12-22 01:08:08.078 Thread 'MainThread': missing ScriptRunContext! This warning can be ignored when running in bare mode.\n",
            "2024-12-22 01:08:08.078 Thread 'MainThread': missing ScriptRunContext! This warning can be ignored when running in bare mode.\n",
            "2024-12-22 01:08:08.079 Thread 'MainThread': missing ScriptRunContext! This warning can be ignored when running in bare mode.\n",
            "2024-12-22 01:08:08.079 Thread 'MainThread': missing ScriptRunContext! This warning can be ignored when running in bare mode.\n",
            "2024-12-22 01:08:08.080 Thread 'MainThread': missing ScriptRunContext! This warning can be ignored when running in bare mode.\n",
            "2024-12-22 01:08:08.081 Thread 'MainThread': missing ScriptRunContext! This warning can be ignored when running in bare mode.\n",
            "2024-12-22 01:08:08.081 Thread 'MainThread': missing ScriptRunContext! This warning can be ignored when running in bare mode.\n",
            "2024-12-22 01:08:08.081 Thread 'MainThread': missing ScriptRunContext! This warning can be ignored when running in bare mode.\n",
            "2024-12-22 01:08:08.082 Thread 'MainThread': missing ScriptRunContext! This warning can be ignored when running in bare mode.\n",
            "2024-12-22 01:08:08.082 Thread 'MainThread': missing ScriptRunContext! This warning can be ignored when running in bare mode.\n",
            "2024-12-22 01:08:08.082 Thread 'MainThread': missing ScriptRunContext! This warning can be ignored when running in bare mode.\n",
            "2024-12-22 01:08:08.082 Thread 'MainThread': missing ScriptRunContext! This warning can be ignored when running in bare mode.\n"
          ]
        },
        {
          "name": "stdout",
          "output_type": "stream",
          "text": [
            "<class 'pandas.core.frame.DataFrame'>\n",
            "RangeIndex: 731 entries, 0 to 730\n",
            "Data columns (total 16 columns):\n",
            " #   Column      Non-Null Count  Dtype  \n",
            "---  ------      --------------  -----  \n",
            " 0   instant     731 non-null    int64  \n",
            " 1   dteday      731 non-null    object \n",
            " 2   season      731 non-null    int64  \n",
            " 3   yr          731 non-null    int64  \n",
            " 4   mnth        731 non-null    int64  \n",
            " 5   holiday     731 non-null    int64  \n",
            " 6   weekday     731 non-null    int64  \n",
            " 7   workingday  731 non-null    int64  \n",
            " 8   weathersit  731 non-null    int64  \n",
            " 9   temp        731 non-null    float64\n",
            " 10  atemp       731 non-null    float64\n",
            " 11  hum         731 non-null    float64\n",
            " 12  windspeed   731 non-null    float64\n",
            " 13  casual      731 non-null    int64  \n",
            " 14  registered  731 non-null    int64  \n",
            " 15  cnt         731 non-null    int64  \n",
            "dtypes: float64(4), int64(11), object(1)\n",
            "memory usage: 91.5+ KB\n",
            "<class 'pandas.core.frame.DataFrame'>\n",
            "RangeIndex: 17379 entries, 0 to 17378\n",
            "Data columns (total 17 columns):\n",
            " #   Column      Non-Null Count  Dtype  \n",
            "---  ------      --------------  -----  \n",
            " 0   instant     17379 non-null  int64  \n",
            " 1   dteday      17379 non-null  object \n",
            " 2   season      17379 non-null  int64  \n",
            " 3   yr          17379 non-null  int64  \n",
            " 4   mnth        17379 non-null  int64  \n",
            " 5   hr          17379 non-null  int64  \n",
            " 6   holiday     17379 non-null  int64  \n",
            " 7   weekday     17379 non-null  int64  \n",
            " 8   workingday  17379 non-null  int64  \n",
            " 9   weathersit  17379 non-null  int64  \n",
            " 10  temp        17379 non-null  float64\n",
            " 11  atemp       17379 non-null  float64\n",
            " 12  hum         17379 non-null  float64\n",
            " 13  windspeed   17379 non-null  float64\n",
            " 14  casual      17379 non-null  int64  \n",
            " 15  registered  17379 non-null  int64  \n",
            " 16  cnt         17379 non-null  int64  \n",
            "dtypes: float64(4), int64(12), object(1)\n",
            "memory usage: 2.3+ MB\n"
          ]
        }
      ],
      "source": [
        "# Assessing data structures and types\n",
        "day_info = day_df.info()\n",
        "hour_info = hour_df.info()\n",
        "\n",
        "# Checking for missing values in both datasets\n",
        "day_missing_values = day_df.isna().sum()\n",
        "hour_missing_values = hour_df.isna().sum()\n",
        "\n",
        "# Checking for duplicate rows in both datasets\n",
        "day_duplicates = day_df.duplicated().sum()\n",
        "hour_duplicates = hour_df.duplicated().sum()\n",
        "\n",
        "# Displaying the assessment results\n",
        "st.subheader(\"Data Info\")\n",
        "st.write(\"Day DataFrame Info:\", day_info)\n",
        "st.write(\"Hour DataFrame Info:\", hour_info)\n",
        "\n",
        "st.subheader(\"Missing Values\")\n",
        "st.write(\"Day DataFrame Missing Values:\", day_missing_values)\n",
        "st.write(\"Hour DataFrame Missing Values:\", hour_missing_values)\n",
        "\n",
        "st.subheader(\"Duplicates\")\n",
        "st.write(\"Day DataFrame Duplicates:\", day_duplicates)\n",
        "st.write(\"Hour DataFrame Duplicates:\", hour_duplicates)\n"
      ]
    },
    {
      "cell_type": "markdown",
      "metadata": {
        "id": "7dtxhAPrkhPL"
      },
      "source": [
        "**Insight:**\n",
        "\n",
        "- Proses Assessing Data dilakukan dengan memeriksa informasi dasar dari kedua DataFrame (day_df dan hour_df), seperti jumlah baris, kolom, tipe data, dan juga pengecekan untuk nilai yang hilang (missing values) dan duplikasi.\n",
        "\n",
        "- Hasil pengecekan missing values dan duplikasi akan memberikan gambaran tentang kualitas data awal sebelum analisis lebih dalam."
      ]
    },
    {
      "cell_type": "markdown",
      "metadata": {
        "id": "EhN5R4hr8DC1"
      },
      "source": [
        "### Cleaning Data"
      ]
    },
    {
      "cell_type": "code",
      "execution_count": 59,
      "metadata": {
        "id": "jVnYpprE9Evz"
      },
      "outputs": [
        {
          "name": "stderr",
          "output_type": "stream",
          "text": [
            "2024-12-22 01:08:08.120 Thread 'MainThread': missing ScriptRunContext! This warning can be ignored when running in bare mode.\n",
            "2024-12-22 01:08:08.120 Thread 'MainThread': missing ScriptRunContext! This warning can be ignored when running in bare mode.\n",
            "2024-12-22 01:08:08.120 Thread 'MainThread': missing ScriptRunContext! This warning can be ignored when running in bare mode.\n",
            "2024-12-22 01:08:08.121 Thread 'MainThread': missing ScriptRunContext! This warning can be ignored when running in bare mode.\n",
            "2024-12-22 01:08:08.127 Thread 'MainThread': missing ScriptRunContext! This warning can be ignored when running in bare mode.\n",
            "2024-12-22 01:08:08.128 Thread 'MainThread': missing ScriptRunContext! This warning can be ignored when running in bare mode.\n"
          ]
        }
      ],
      "source": [
        "# Cleaning Data: Handle missing values and duplicates\n",
        "# Removing duplicates if any\n",
        "day_df = day_df.drop_duplicates()\n",
        "hour_df = hour_df.drop_duplicates()\n",
        "\n",
        "# If missing values are critical, we may need to impute or drop them\n",
        "# Example: Filling missing values with the mean (if applicable)\n",
        "# day_df.fillna(day_df.mean(), inplace=True)  # Uncomment if needed\n",
        "# hour_df.fillna(hour_df.mean(), inplace=True)  # Uncomment if needed\n",
        "\n",
        "# Make sure 'dteday' is in datetime format for further analysis\n",
        "bike_df = hour_df.merge(day_df, on='dteday', how='inner', suffixes=('_hour', '_day'))\n",
        "bike_df['dteday'] = pd.to_datetime(bike_df['dteday'])\n",
        "\n",
        "# Create 'weekday' column (0=Monday, 6=Sunday)\n",
        "bike_df['weekday'] = bike_df['dteday'].dt.weekday\n",
        "\n",
        "# Check the first few rows to ensure 'weekday' was created correctly\n",
        "st.write(\"Bike DataFrame with 'weekday' Column:\")\n",
        "st.write(bike_df.head())\n"
      ]
    },
    {
      "cell_type": "markdown",
      "metadata": {
        "id": "Q_5ejIqckiSP"
      },
      "source": [
        "**Insight:**\n",
        "\n",
        "- Proses Cleaning Data dilakukan dengan membersihkan data dari duplikasi dan menangani nilai yang hilang. Selain itu, kolom yang relevan juga ditransformasi menjadi format yang benar (misalnya, konversi kolom dteday menjadi tipe data datetime).\n",
        "\n",
        "- Pengelolaan missing values juga dapat dilakukan, misalnya dengan mengimputasi nilai atau menghapus baris yang tidak lengkap."
      ]
    },
    {
      "cell_type": "markdown",
      "metadata": {
        "id": "gp-Y6wU38DC1"
      },
      "source": [
        "## Exploratory Data Analysis (EDA)"
      ]
    },
    {
      "cell_type": "code",
      "execution_count": 60,
      "metadata": {
        "id": "e9CQCZjk8DC2"
      },
      "outputs": [
        {
          "name": "stderr",
          "output_type": "stream",
          "text": [
            "2024-12-22 01:08:08.148 Thread 'MainThread': missing ScriptRunContext! This warning can be ignored when running in bare mode.\n",
            "2024-12-22 01:08:08.148 Thread 'MainThread': missing ScriptRunContext! This warning can be ignored when running in bare mode.\n",
            "2024-12-22 01:08:08.150 Thread 'MainThread': missing ScriptRunContext! This warning can be ignored when running in bare mode.\n",
            "2024-12-22 01:08:08.150 Thread 'MainThread': missing ScriptRunContext! This warning can be ignored when running in bare mode.\n",
            "2024-12-22 01:08:08.151 Thread 'MainThread': missing ScriptRunContext! This warning can be ignored when running in bare mode.\n",
            "2024-12-22 01:08:08.151 Thread 'MainThread': missing ScriptRunContext! This warning can be ignored when running in bare mode.\n",
            "2024-12-22 01:08:08.151 Thread 'MainThread': missing ScriptRunContext! This warning can be ignored when running in bare mode.\n",
            "2024-12-22 01:08:08.152 Thread 'MainThread': missing ScriptRunContext! This warning can be ignored when running in bare mode.\n"
          ]
        }
      ],
      "source": [
        "# Here, we begin the analysis phase, checking trends and patterns in the data\n",
        "\n",
        "# Analyze how weekday affects bike rental counts\n",
        "weekday_rentals = bike_df.groupby(\"weekday\")[\"cnt_hour\"].mean().reset_index()\n",
        "\n",
        "# Analyze busy hours (7-9 AM and 4-6 PM)\n",
        "bike_df['busy_hour'] = bike_df['hr'].apply(lambda x: 'Sibuk' if (7 <= x <= 9) or (16 <= x <= 18) else 'Non-Sibuk')\n",
        "busy_hour_rentals = bike_df.groupby(\"busy_hour\")[\"cnt_hour\"].mean().reset_index()\n",
        "\n",
        "# Displaying the results of EDA\n",
        "st.subheader(\"Average Bike Rentals by Weekday\")\n",
        "st.write(weekday_rentals)\n",
        "\n",
        "st.subheader(\"Average Bike Rentals by Busy Hour\")\n",
        "st.write(busy_hour_rentals)\n"
      ]
    },
    {
      "cell_type": "markdown",
      "metadata": {
        "id": "th_Lzl2Fkj9O"
      },
      "source": [
        "**Insight:**\n",
        "- EDA membantu dalam memahami hubungan antara variabel yang ada dalam data, seperti:\n",
        "\n",
        "- Pengaruh hari dalam seminggu terhadap jumlah penyewaan sepeda.\n",
        "Perbedaan antara jam sibuk dan non-sibuk dalam hal jumlah penyewaan sepeda.\n",
        "Dengan menganalisis data berdasarkan weekday dan busy_hour, kita dapat melihat pola atau tren tertentu dalam perilaku penyewaan sepeda."
      ]
    },
    {
      "cell_type": "markdown",
      "metadata": {
        "id": "zsyZjqak8DC2"
      },
      "source": [
        "## Visualization & Explanatory Analysis"
      ]
    },
    {
      "cell_type": "markdown",
      "metadata": {
        "id": "HZxOiQ6n8DC2"
      },
      "source": [
        "### Pertanyaan 1:"
      ]
    },
    {
      "cell_type": "code",
      "execution_count": 61,
      "metadata": {
        "id": "1swJUdAD8DC2"
      },
      "outputs": [
        {
          "name": "stderr",
          "output_type": "stream",
          "text": [
            "2024-12-22 01:08:09.457 Thread 'MainThread': missing ScriptRunContext! This warning can be ignored when running in bare mode.\n",
            "2024-12-22 01:08:09.715 Thread 'MainThread': missing ScriptRunContext! This warning can be ignored when running in bare mode.\n",
            "2024-12-22 01:08:09.716 Thread 'MainThread': missing ScriptRunContext! This warning can be ignored when running in bare mode.\n"
          ]
        },
        {
          "data": {
            "text/plain": [
              "DeltaGenerator()"
            ]
          },
          "execution_count": 61,
          "metadata": {},
          "output_type": "execute_result"
        }
      ],
      "source": [
        "# Visualization 1: Bike Rentals by Weekday\n",
        "plt.figure(figsize=(10, 6))\n",
        "sns.barplot(x=\"weekday\", y=\"cnt_hour\", data=weekday_rentals)\n",
        "plt.title(\"Pengaruh Hari dalam Seminggu terhadap Jumlah Penyewaan Sepeda per Jam\")\n",
        "plt.xlabel(\"Hari dalam Seminggu\")\n",
        "plt.ylabel(\"Rata-rata Jumlah Penyewaan Sepeda per Jam\")\n",
        "plt.xticks(ticks=[0, 1, 2, 3, 4, 5, 6], labels=['Senin', 'Selasa', 'Rabu', 'Kamis', 'Jumat', 'Sabtu', 'Minggu'])\n",
        "st.pyplot(plt)"
      ]
    },
    {
      "cell_type": "markdown",
      "metadata": {
        "id": "DgHI7CiU8DC2"
      },
      "source": [
        "### Pertanyaan 2:"
      ]
    },
    {
      "cell_type": "code",
      "execution_count": 62,
      "metadata": {
        "id": "Go0lCsvO8DC2"
      },
      "outputs": [
        {
          "name": "stderr",
          "output_type": "stream",
          "text": [
            "2024-12-22 01:08:09.753 Thread 'MainThread': missing ScriptRunContext! This warning can be ignored when running in bare mode.\n",
            "2024-12-22 01:08:09.872 Thread 'MainThread': missing ScriptRunContext! This warning can be ignored when running in bare mode.\n",
            "2024-12-22 01:08:09.872 Thread 'MainThread': missing ScriptRunContext! This warning can be ignored when running in bare mode.\n"
          ]
        },
        {
          "data": {
            "text/plain": [
              "DeltaGenerator()"
            ]
          },
          "execution_count": 62,
          "metadata": {},
          "output_type": "execute_result"
        }
      ],
      "source": [
        "# Visualization 2: Bike Rentals by Busy vs Non-Busy Hour\n",
        "plt.figure(figsize=(8, 5))\n",
        "sns.barplot(x=\"busy_hour\", y=\"cnt_hour\", data=busy_hour_rentals)\n",
        "plt.title(\"Perbandingan Jumlah Penyewaan Sepeda pada Jam Sibuk dan Non-Sibuk\")\n",
        "plt.xlabel(\"Jam Sibuk / Non-Sibuk\")\n",
        "plt.ylabel(\"Rata-rata Jumlah Penyewaan Sepeda per Jam\")\n",
        "st.pyplot(plt)"
      ]
    },
    {
      "cell_type": "markdown",
      "metadata": {
        "id": "_0-36BDLklRg"
      },
      "source": [
        "**Insight:**\n",
        "\n",
        "- Pengaruh hari dalam seminggu: Bar plot menunjukkan perbedaan yang jelas dalam jumlah penyewaan sepeda antara hari-hari tertentu, membantu dalam perencanaan atau pengoptimalan sumber daya pada hari-hari yang lebih sibuk.\n",
        "\n",
        "- Jam sibuk dan non-sibuk: Visualisasi memperjelas bahwa jam sibuk (pagi dan sore hari) menghasilkan lebih banyak penyewaan sepeda. Penyewaan selama jam non-sibuk lebih rendah, memberi petunjuk pada strategi layanan di luar jam sibuk.\n",
        "\n",
        "- Visualisasi memberikan pemahaman yang lebih mendalam tentang pola penggunaan sepeda yang tidak terlihat hanya dari angka statistik."
      ]
    },
    {
      "cell_type": "markdown",
      "metadata": {
        "id": "_WeHlCeX8DC2"
      },
      "source": [
        "## Conclusion"
      ]
    },
    {
      "cell_type": "markdown",
      "metadata": {
        "id": "ZTcyR48Y8DC2"
      },
      "source": [
        "**1. Bagaimana hari dalam seminggu memengaruhi jumlah penyewaan sepeda?**\n",
        "\n",
        "Hari dalam seminggu memengaruhi jumlah penyewaan sepeda, dengan kemungkinan lebih tinggi pada hari-hari tertentu (seperti hari kerja atau akhir pekan). Hal ini dapat digunakan untuk mengatur jadwal operasional dan sumber daya yang lebih efisien.\n",
        "\n",
        "**2. Apakah ada perbedaan jumlah penyewaan sepeda antara jam sibuk dan non-sibuk?**\n",
        "\n",
        "Terdapat perbedaan yang jelas dalam jumlah penyewaan sepeda antara jam sibuk (seperti pagi hari dan sore hari) dan non-sibuk. Penyewaan lebih banyak terjadi selama jam sibuk, memberikan informasi penting untuk pengaturan distribusi sepeda atau pengoptimalan layanan pada jam-jam tersebut."
      ]
    }
  ],
  "metadata": {
    "colab": {
      "provenance": []
    },
    "kernelspec": {
      "display_name": "Python 3",
      "language": "python",
      "name": "python3"
    },
    "language_info": {
      "codemirror_mode": {
        "name": "ipython",
        "version": 3
      },
      "file_extension": ".py",
      "mimetype": "text/x-python",
      "name": "python",
      "nbconvert_exporter": "python",
      "pygments_lexer": "ipython3",
      "version": "3.12.2"
    },
    "orig_nbformat": 4,
    "vscode": {
      "interpreter": {
        "hash": "972b3bf27e332e87b5379f2791f6ef9dfc79c71018c370b0d7423235e20fe4d7"
      }
    }
  },
  "nbformat": 4,
  "nbformat_minor": 0
}
